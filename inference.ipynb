{
 "cells": [
  {
   "cell_type": "code",
   "execution_count": 162,
   "id": "d2b6f473",
   "metadata": {},
   "outputs": [],
   "source": [
    "import pickle\n",
    "import pandas as pd"
   ]
  },
  {
   "cell_type": "code",
   "execution_count": 163,
   "id": "71bcc985",
   "metadata": {},
   "outputs": [],
   "source": [
    "model = pickle.load(open('./deployment/model.pkl', 'rb'))"
   ]
  },
  {
   "cell_type": "code",
   "execution_count": 164,
   "id": "e220365e",
   "metadata": {},
   "outputs": [
    {
     "data": {
      "text/html": [
       "<div>\n",
       "<style scoped>\n",
       "    .dataframe tbody tr th:only-of-type {\n",
       "        vertical-align: middle;\n",
       "    }\n",
       "\n",
       "    .dataframe tbody tr th {\n",
       "        vertical-align: top;\n",
       "    }\n",
       "\n",
       "    .dataframe thead th {\n",
       "        text-align: right;\n",
       "    }\n",
       "</style>\n",
       "<table border=\"1\" class=\"dataframe\">\n",
       "  <thead>\n",
       "    <tr style=\"text-align: right;\">\n",
       "      <th></th>\n",
       "      <th>age</th>\n",
       "      <th>anaemia</th>\n",
       "      <th>creatinine_phosphokinase</th>\n",
       "      <th>diabetes</th>\n",
       "      <th>ejection_fraction</th>\n",
       "      <th>high_blood_pressure</th>\n",
       "      <th>platelets</th>\n",
       "      <th>serum_creatinine</th>\n",
       "      <th>serum_sodium</th>\n",
       "      <th>sex</th>\n",
       "      <th>smoking</th>\n",
       "      <th>time</th>\n",
       "    </tr>\n",
       "  </thead>\n",
       "  <tbody>\n",
       "    <tr>\n",
       "      <th>0</th>\n",
       "      <td>45</td>\n",
       "      <td>0</td>\n",
       "      <td>150</td>\n",
       "      <td>0</td>\n",
       "      <td>15</td>\n",
       "      <td>0</td>\n",
       "      <td>100000</td>\n",
       "      <td>0.5</td>\n",
       "      <td>120</td>\n",
       "      <td>0</td>\n",
       "      <td>0</td>\n",
       "      <td>21</td>\n",
       "    </tr>\n",
       "    <tr>\n",
       "      <th>1</th>\n",
       "      <td>40</td>\n",
       "      <td>0</td>\n",
       "      <td>20</td>\n",
       "      <td>0</td>\n",
       "      <td>65</td>\n",
       "      <td>1</td>\n",
       "      <td>250000</td>\n",
       "      <td>1.0</td>\n",
       "      <td>140</td>\n",
       "      <td>1</td>\n",
       "      <td>1</td>\n",
       "      <td>20</td>\n",
       "    </tr>\n",
       "  </tbody>\n",
       "</table>\n",
       "</div>"
      ],
      "text/plain": [
       "   age  anaemia  creatinine_phosphokinase  diabetes  ejection_fraction  \\\n",
       "0   45        0                       150         0                 15   \n",
       "1   40        0                        20         0                 65   \n",
       "\n",
       "   high_blood_pressure  platelets  serum_creatinine  serum_sodium  sex  \\\n",
       "0                    0     100000               0.5           120    0   \n",
       "1                    1     250000               1.0           140    1   \n",
       "\n",
       "   smoking  time  \n",
       "0        0    21  \n",
       "1        1    20  "
      ]
     },
     "execution_count": 164,
     "metadata": {},
     "output_type": "execute_result"
    }
   ],
   "source": [
    "data = pd.DataFrame([\n",
    "    {\n",
    "        'age': 45,\n",
    "        'anaemia': 0,\n",
    "        'creatinine_phosphokinase': 150,\n",
    "        'diabetes': 0,\n",
    "        'ejection_fraction': 15,\n",
    "        'high_blood_pressure': 0,\n",
    "        'platelets': 100000,\n",
    "        'serum_creatinine': 0.5,\n",
    "        'serum_sodium': 120,\n",
    "        'sex': 0,\n",
    "        'smoking': 0,\n",
    "        'time': 21,\n",
    "    },\n",
    "    {\n",
    "        'age': 40,\n",
    "        'anaemia': 0,\n",
    "        'creatinine_phosphokinase': 20,\n",
    "        'diabetes': 0,\n",
    "        'ejection_fraction': 65,\n",
    "        'high_blood_pressure': 1,\n",
    "        'platelets': 250000,\n",
    "        'serum_creatinine': 1,\n",
    "        'serum_sodium': 140,\n",
    "        'sex': 1,\n",
    "        'smoking': 1,\n",
    "        'time': 20,\n",
    "    }\n",
    "])\n",
    "data"
   ]
  },
  {
   "cell_type": "code",
   "execution_count": 165,
   "id": "3c7a5992",
   "metadata": {},
   "outputs": [],
   "source": [
    "proba = model.predict_proba(data)"
   ]
  },
  {
   "cell_type": "code",
   "execution_count": 166,
   "id": "4cff6954",
   "metadata": {},
   "outputs": [
    {
     "name": "stdout",
     "output_type": "stream",
     "text": [
      "\n",
      "Pasien 1\n",
      "Probabilitas risiko kematian: 1.00\n",
      "Status: Berisiko tinggi.\n",
      "Tindakan: Segera bawa pasien ke rumah sakit atau klinik yang memiliki fasilitas perawatan jantung (ICCU/CCU) untuk evaluasi dan penanganan intensif.\n",
      "\n",
      "Pasien 2\n",
      "Probabilitas risiko kematian: 0.18\n",
      "Status: Tidak berisiko tinggi/Tidak berisiko jika 0.\n",
      "Tindakan: Berikan edukasi pentingnya kontrol rutin dan mengenali gejala awal gagal jantung.\n"
     ]
    }
   ],
   "source": [
    "# Menampilkan prediksi dan probabilitas\n",
    "for i in range(len(proba)):\n",
    "    prob_meninggal = proba[i][1]  # Probabilitas meninggal/1\n",
    "    \n",
    "    print(f\"\\nPasien {i+1}\")\n",
    "    print(f\"Probabilitas risiko kematian: {prob_meninggal:.2f}\")\n",
    "    \n",
    "    if prob_meninggal >= 0.7:\n",
    "        print(\"Status: Berisiko tinggi.\")\n",
    "        print(\"Tindakan: Segera bawa pasien ke rumah sakit atau klinik yang memiliki fasilitas perawatan jantung (ICCU/CCU) untuk evaluasi dan penanganan intensif.\")\n",
    "    \n",
    "    elif prob_meninggal >= 0.4:\n",
    "        print(\"Status: Risiko sedang.\")\n",
    "        print('Tindakan: Disarankan konsultasi medis lebih lanjut untuk evaluasi menyeluruh, mulai modifikasi gaya hidup dan cek rutin.')\n",
    "    \n",
    "    else:\n",
    "        print(\"Status: Tidak berisiko tinggi/Tidak berisiko jika 0.\")\n",
    "        print(\"Tindakan: Berikan edukasi pentingnya kontrol rutin dan mengenali gejala awal gagal jantung.\")"
   ]
  }
 ],
 "metadata": {
  "kernelspec": {
   "display_name": "base",
   "language": "python",
   "name": "python3"
  },
  "language_info": {
   "codemirror_mode": {
    "name": "ipython",
    "version": 3
   },
   "file_extension": ".py",
   "mimetype": "text/x-python",
   "name": "python",
   "nbconvert_exporter": "python",
   "pygments_lexer": "ipython3",
   "version": "3.12.9"
  }
 },
 "nbformat": 4,
 "nbformat_minor": 5
}
